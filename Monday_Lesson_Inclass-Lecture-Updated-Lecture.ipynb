# Week 2 - Monday Lesson (variable assignment, loops, lists)
## Tasks Today:

1) Int & Float assignments <br>
 &nbsp;&nbsp;&nbsp;&nbsp; a) Assigning int <br>
 &nbsp;&nbsp;&nbsp;&nbsp; b) Assigning float <br>
 &nbsp;&nbsp;&nbsp;&nbsp; c) Performing Calculations on ints and floats <br>
 &nbsp;&nbsp;&nbsp;&nbsp;&nbsp;&nbsp;&nbsp;&nbsp; - Addition <br>
 &nbsp;&nbsp;&nbsp;&nbsp;&nbsp;&nbsp;&nbsp;&nbsp; - Subtraction <br>
 &nbsp;&nbsp;&nbsp;&nbsp;&nbsp;&nbsp;&nbsp;&nbsp; - Multiplication <br>
 &nbsp;&nbsp;&nbsp;&nbsp;&nbsp;&nbsp;&nbsp;&nbsp; - Division <br>
 &nbsp;&nbsp;&nbsp;&nbsp;&nbsp;&nbsp;&nbsp;&nbsp; - Floor Division <br>
 &nbsp;&nbsp;&nbsp;&nbsp;&nbsp;&nbsp;&nbsp;&nbsp; - Modulo <br>
 &nbsp;&nbsp;&nbsp;&nbsp;&nbsp;&nbsp;&nbsp;&nbsp; - Exponential <br>
2) String Input-Output <br>
 &nbsp;&nbsp;&nbsp;&nbsp; a) String Assignment <br>
 &nbsp;&nbsp;&nbsp;&nbsp; b) print() <br>
 &nbsp;&nbsp;&nbsp;&nbsp; c) String Concatenation <br>
 &nbsp;&nbsp;&nbsp;&nbsp; d) Type Conversion <br>
 &nbsp;&nbsp;&nbsp;&nbsp; e) input() <br>
 &nbsp;&nbsp;&nbsp;&nbsp; f) format() <br>
 &nbsp;&nbsp;&nbsp;&nbsp; g) Old Way (python 2) <br>
3) <b>In-Class Exercise #1</b> <br>
4) If Statements <br>
 &nbsp;&nbsp;&nbsp;&nbsp; a) 'is' keyword <br>
 &nbsp;&nbsp;&nbsp;&nbsp; b) 'in' keyword <br>
 &nbsp;&nbsp;&nbsp;&nbsp; c) 'not in' keyword <br>
5) <b>In-Class Exercise #2</b> <br>
6) Elif Statements <br>
7) Else Statements <br>
8) <b>In-Class Exercise #3</b> <br>
9) For Loops <br>
 &nbsp;&nbsp;&nbsp;&nbsp; a) Using 'in' keyword <br>
 &nbsp;&nbsp;&nbsp;&nbsp; b) Continue Statement <br>
 &nbsp;&nbsp;&nbsp;&nbsp; c) Break Statement <br>
 &nbsp;&nbsp;&nbsp;&nbsp; d) Pass Statement <br>
 &nbsp;&nbsp;&nbsp;&nbsp; e) Double For Loops <br>
10) While Loops <br>
 &nbsp;&nbsp;&nbsp;&nbsp; a) Looping 'While True' <br>
 &nbsp;&nbsp;&nbsp;&nbsp; b) While and For Loops Used Together <br>
11) Built-In Functions <br>
 &nbsp;&nbsp;&nbsp;&nbsp; a) range() <br>
 &nbsp;&nbsp;&nbsp;&nbsp; b) len() <br>
 &nbsp;&nbsp;&nbsp;&nbsp; c) help() <br>
 &nbsp;&nbsp;&nbsp;&nbsp; d) isinstance() <br>
 &nbsp;&nbsp;&nbsp;&nbsp; e) abs() <br>
12) Try and Except <br>
13) Lists <br>
 &nbsp;&nbsp;&nbsp;&nbsp; a) Declaring Lists <br>
 &nbsp;&nbsp;&nbsp;&nbsp; b) Indexing a List <br>
 &nbsp;&nbsp;&nbsp;&nbsp; c) .append() <br>
 &nbsp;&nbsp;&nbsp;&nbsp; d) .insert() <br>
 &nbsp;&nbsp;&nbsp;&nbsp; e) .pop() <br>
 &nbsp;&nbsp;&nbsp;&nbsp; f) .remove() <br>
 &nbsp;&nbsp;&nbsp;&nbsp; g) del() <br>
 &nbsp;&nbsp;&nbsp;&nbsp; h) Concatenating Two Lists <br>
 &nbsp;&nbsp;&nbsp;&nbsp; i) Lists Within Lists <br>
 &nbsp;&nbsp;&nbsp;&nbsp; j) Looping Through Lists <br>
### Int & Float Assignments
##### Assigning int

##### Assinging float

#### Performing Calculations on ints and floats
##### Addition

##### Subtraction

##### Multiplication

##### Division

##### Floor Division

##### Modulo

##### Exponential

### String Input-Output
##### String Assignment

##### print() <br>
<p>Don't forget about end=' '</p>

##### String Concatenation

##### Type Conversion

##### input()

##### format()

##### Old Way (python 2)

# In-Class Exercise 1 <br>
<p>Create a format statement that asks for color, year, make, model and prints out the results</p>
color = input("What color? ")
year = input("What year? ")
make = input("What make? ")
model = input("What model? ")
print(f"Your car is a {color}, {year} {make} {model}") 
### If Statements
# Available operators: Greater(>), Less(<),Equal(==)
# Greater or Equal(>=), Less or Equal (<=)

# Truth Tree:
# T && F = F
# T && T = T
# T || F = T
# F || T = T
# F || F = F
##### 'is' keyword

##### 'in' keyword

##### 'not in' keyword'

# In-Class Exercise 2 <br>
<p>Ask user for input, check to see if the letter 'p' is in the input</p>
name = input("What is your name? ")
if "p" in name:
    print("Your name contains the letter p")
else: print("Your name does not contain the letter \"p\"")
## Using 'and'/'or' with If Statements

### Elif Statements

### Else Statements
# see above
### For Loops
name = "hubabubba"
for i in range(len(name)):
    print(i)
##### Using 'in' keyword
# see above
##### Continue Statement
# will continue to next iteration

##### Break Statement
# will break out of current loop

##### Pass Statement
# mostly used as a placeholder, and will continue on same iteration

##### Double For Loops

### While Loops

##### Looping 'While True'

##### While & For Loops Used Together

### Built-In Functions
##### range()

##### len()

##### help()

##### isinstance()

##### abs()

### Try and Except
while True:
    try:
        num = 7
        guess = int(input("Guess a number from 1 to 20"))
        if guess == num:
            print("correct! YOU WIN!")
        else:
            print(f"your number {guesss} was incorrect. Guess again")
    except:
        print("please guess between 0 and 9")
### Lists
##### Declaring Lists

##### Indexing a List

##### .append()

##### .insert()

##### .pop()


##### .remove()

##### del()

##### Concatenating Two Lists

##### Lists Within Lists

##### Looping Through Lists

## Exercise #1 <br>
<p>Cube Number Test... Print out all cubed numbers up to the total value 1000. Meaning that if the cubed number is over 1000 break the loop.</p>
n = 3
while n < 1000:
    print(n)
    n *=3;
    if n > 1000:
        break
## Exercise #2 <br>
<p>Get first prime numbers up to 100</p>
# HINT::
# An else after an if runs if the if didn’t
# An else after a for runs if the for didn’t break

hundred_prime_array = [2]
for i in range(3,100,2): #only checking odd numbers, since 2 is the only even prime number
    for n in range(2,i): #checking if i is divisible by any number less than half it's value
        if i == 3 or i == 5:
            hundred_prime_array.append(i)
            break
        elif i % n == 0: #if it is, it is not a prime number, so break the second for loop
            break
        elif n >= i//2: #if n has made it to the half way point and i is still not divisible by it, i is a prime number
            hundred_prime_array.append(i)
            break

#print(hundred_prime_array)


hundred_prime_array_2 = [2,3]
hpa2 = hundred_prime_array_2
prime_limit = 100
for x in range(1,prime_limit//3,2):
    for y in range(1,len(hpa2)):
        #if y == 0:
        #    continue
        if (x*3 + 2) % hpa2[y] == 0:
            continue
        elif y == len(hpa2)-1:
            hpa2.append((x*3 + 2))
    for z in range(1,len(hpa2)):
        #if z == 0:
        #    continue
        if (x*3 + 4) % hpa2[z] == 0:
            continue
        elif z == len(hpa2)-1:
            hpa2.append((x*3 + 4))

#print(hpa2)
# Exercise 3 <br>
<p>Take in a users input for their age, if they are younger than 18 print kids, if they're 18 to 65 print adults, else print seniors</p>
age = int(input("How old are you? "))
if age < 18:
    print("Psh. Kids.")
elif age >= 18 and age <= 65:
    print("Welcome, adult")
else:
    print("Psh. Seniors.")
